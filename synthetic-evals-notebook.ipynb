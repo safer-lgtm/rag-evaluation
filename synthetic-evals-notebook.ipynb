{
 "cells": [
  {
   "cell_type": "markdown",
   "metadata": {
    "application/vnd.databricks.v1+cell": {
     "cellMetadata": {},
     "inputWidgets": {},
     "nuid": "2cfa3e14-f110-47c9-a010-9caa234241a7",
     "showTitle": false,
     "tableResultSettingsMap": {},
     "title": ""
    }
   },
   "source": [
    "## Evaluation Set Generation für RAG-System"
   ]
  },
  {
   "cell_type": "code",
   "execution_count": 0,
   "metadata": {
    "application/vnd.databricks.v1+cell": {
     "cellMetadata": {
      "byteLimit": 2048000,
      "rowLimit": 10000
     },
     "inputWidgets": {},
     "nuid": "31a17463-1e61-4a15-bebe-e37b285fb8a0",
     "showTitle": false,
     "tableResultSettingsMap": {},
     "title": ""
    }
   },
   "outputs": [
    {
     "name": "stdout",
     "output_type": "stream",
     "text": [
      "\u001b[43mNote: you may need to restart the kernel using %restart_python or dbutils.library.restartPython() to use updated packages.\u001b[0m\n"
     ]
    }
   ],
   "source": [
    "%pip install -q mlflow mlflow[databricks] databricks-agents\n",
    "dbutils.library.restartPython()"
   ]
  },
  {
   "cell_type": "code",
   "execution_count": 0,
   "metadata": {
    "application/vnd.databricks.v1+cell": {
     "cellMetadata": {
      "byteLimit": 2048000,
      "rowLimit": 10000
     },
     "inputWidgets": {},
     "nuid": "532e30e1-7cc1-42c3-858e-d1caed284006",
     "showTitle": false,
     "tableResultSettingsMap": {},
     "title": ""
    }
   },
   "outputs": [],
   "source": [
    "import mlflow\n",
    "from databricks.agents.evals import generate_evals_df, estimate_synthetic_num_evals\n",
    "from pyspark.sql.functions import (\n",
    "  col, concat_ws, collect_list, count, first, max, length\n",
    ")"
   ]
  },
  {
   "cell_type": "code",
   "execution_count": 0,
   "metadata": {
    "application/vnd.databricks.v1+cell": {
     "cellMetadata": {
      "byteLimit": 2048000,
      "rowLimit": 10000
     },
     "inputWidgets": {},
     "nuid": "895336be-f3a0-41b1-a635-dc5f627a7a52",
     "showTitle": false,
     "tableResultSettingsMap": {},
     "title": ""
    }
   },
   "outputs": [],
   "source": [
    "# ====================================================================\n",
    "# 1. Document-Level mit intelligenter Chunk-Zusammenführung\n",
    "# ====================================================================\n",
    "def chunk_merger(chunk_table):\n",
    "  \"\"\"\n",
    "  Führt alle Chunks pro Dokument zu einem Text zusammen\n",
    "  \"\"\"\n",
    "  merged_df = (\n",
    "    chunk_table\n",
    "      .groupBy('document_id')\n",
    "      .agg(concat_ws(' ', collect_list('chunk')).alias('content'),\n",
    "           first('url').alias('doc_uri'),\n",
    "           count('chunk').alias('num_chunks'))\n",
    "  ).select(\n",
    "    col('content'), col('doc_uri'), col('num_chunks')\n",
    "  )\n",
    "  # Nur Dokumente mit genügend Content\n",
    "  filtered_df = merged_df.filter((length(col('content')) > 500) & (col('num_chunks') > 1))\n",
    "  return filtered_df"
   ]
  },
  {
   "cell_type": "code",
   "execution_count": 0,
   "metadata": {
    "application/vnd.databricks.v1+cell": {
     "cellMetadata": {
      "byteLimit": 2048000,
      "rowLimit": 10000
     },
     "inputWidgets": {},
     "nuid": "20d55382-9c94-4cde-b15e-2752fccac447",
     "showTitle": false,
     "tableResultSettingsMap": {},
     "title": ""
    }
   },
   "outputs": [],
   "source": [
    "# ====================================================================\n",
    "# 2. Agent Konfiguration\n",
    "# ====================================================================\n",
    "def agent_configuration():\n",
    "    \"\"\"\n",
    "    Allgemeine Agent-Beschreibung\n",
    "    \"\"\"\n",
    "    agent_description = \"\"\"\n",
    "    Der Agent ist ein RAG-Chatbot, der Fragen zu Produkten, Dienstleistungen oder anderen Themen beantwortet. Der Agent hat Zugriff auf eine umfangreiche Sammlung von Dokumenten, einschließlich:\n",
    "    - Produktbeschreibungen\n",
    "    - Preislisten und Tarife\n",
    "    - Technische Spezifikationen\n",
    "    - Verträge und Bedingungen\n",
    "    - Weitere relevante Dokumentationen\n",
    "    \"\"\"\n",
    "    \n",
    "    question_guidelines = \"\"\"\n",
    "    # Nutzer-Personas\n",
    "    - Kunden: Suchen schnelle, klare Antworten zu Produkten, Services oder anderen relevanten Themen\n",
    "    - Vertriebsmitarbeiter: Benötigen detaillierte Produktinformationen, Preisinformationen und Kampagnendaten für Gespräche mit Kunden\n",
    "    - Technische Ansprechpartner: Haben spezifische Fragen zu technischen Details, Anforderungen und Fehlerbehebungen\n",
    "    \n",
    "    # Beispielfragen\n",
    "    - Was sind die Hauptmerkmale des Produkts?\n",
    "    - Wie unterscheidet sich Produkt A von Produkt B?\n",
    "    - Was sind die aktuellen Preise und Tarife?\n",
    "    - Welche technischen Anforderungen muss man erfüllen, um dieses Produkt zu verwenden?\n",
    "    - Was muss ich tun, wenn ich technische Probleme habe?\n",
    "\n",
    "    # Zusätzliche Richtlinien\n",
    "    - Fragen sollten klar, präzise und zum Thema passend formuliert sein\n",
    "    - Fragen sollten auf natürliche Weise und mit einer klaren, freundlichen Sprache gestellt werden\n",
    "    \"\"\"\n",
    "    \n",
    "    return agent_description, question_guidelines"
   ]
  },
  {
   "cell_type": "code",
   "execution_count": 0,
   "metadata": {
    "application/vnd.databricks.v1+cell": {
     "cellMetadata": {
      "byteLimit": 2048000,
      "rowLimit": 10000
     },
     "inputWidgets": {},
     "nuid": "1c8348f3-9720-4eec-bf61-d28cd68e5e71",
     "showTitle": false,
     "tableResultSettingsMap": {},
     "title": ""
    }
   },
   "outputs": [],
   "source": [
    "# ====================================================================\n",
    "# 3. EVALUATION SET ERSTELLUNG\n",
    "# ====================================================================\n",
    "def evaluation_set(chunk_table, num_evals=20):\n",
    "  \"\"\"\n",
    "  Erstellt einen Evaluation-Set\n",
    "  \"\"\"\n",
    "  print(\"📑 Schritt 1: Führe Chunks zu Dokumenten zusammen...\")\n",
    "  merged_df = chunk_merger(chunk_table)\n",
    "  print(\"📑 Schritt 2: Lade Agent-Konfiguration...\")\n",
    "  agent_description, question_guidelines = agent_configuration()\n",
    "  print(\"📑 Schritt 2: Erstelle Evaluation-Set...\")\n",
    "  #num_evals = estimate_synthetic_num_evals(\n",
    "  #  merged_df,\n",
    "  #  eval_per_x_tokens = 800\n",
    "  #)\n",
    "  try:\n",
    "    evals_df = generate_evals_df(\n",
    "        merged_df,\n",
    "        num_evals=num_evals,\n",
    "        agent_description=agent_description,\n",
    "        question_guidelines=question_guidelines\n",
    "    )\n",
    "    print(f\"✅ Erfolgreich {evals_df.count()} Evaluations generiert!\")  \n",
    "  except Exception as e:\n",
    "      print(f\"❌ Fehler bei der Generierung: {str(e)}\")\n",
    "      return None\n",
    "  return evals_df"
   ]
  },
  {
   "cell_type": "code",
   "execution_count": null,
   "metadata": {},
   "outputs": [],
   "source": [
    "chunk_table = spark.sql(\"\"\"\n",
    "    SELECT DISTINCT chunk, url, document_id\n",
    "    FROM chunks_test\n",
    "    LIMIT 100\n",
    "  \"\"\")\n",
    "#display(chunk_table)"
   ]
  },
  {
   "cell_type": "code",
   "execution_count": null,
   "metadata": {},
   "outputs": [],
   "source": [
    "evals = evaluation_set(chunk_table)\n",
    "#display(evals)"
   ]
  },
  {
   "cell_type": "code",
   "execution_count": 0,
   "metadata": {
    "application/vnd.databricks.v1+cell": {
     "cellMetadata": {},
     "inputWidgets": {},
     "nuid": "c63aea61-14ef-464f-86f3-44cca5f82e32",
     "showTitle": false,
     "tableResultSettingsMap": {},
     "title": ""
    }
   },
   "outputs": [],
   "source": [
    "results = mlflow.evaluate(\n",
    "  model=\"endpoints:/databricks-meta-llama-3-3-70b-instruct\",\n",
    "  data=evals,\n",
    "  model_type=\"databricks-agent\",\n",
    ")\n",
    "#display(results.tables['eval_results'])"
   ]
  }
 ],
 "metadata": {
  "application/vnd.databricks.v1+notebook": {
   "computePreferences": null,
   "dashboards": [],
   "environmentMetadata": null,
   "inputWidgetPreferences": null,
   "language": "python",
   "notebookMetadata": {
    "pythonIndentUnit": 2
   },
   "notebookName": "synthetic-evals-notebook",
   "widgets": {}
  },
  "language_info": {
   "name": "python"
  }
 },
 "nbformat": 4,
 "nbformat_minor": 0
}
